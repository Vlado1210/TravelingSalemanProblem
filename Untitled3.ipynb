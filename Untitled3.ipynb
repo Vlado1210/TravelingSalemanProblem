{
  "nbformat": 4,
  "nbformat_minor": 0,
  "metadata": {
    "colab": {
      "provenance": []
    },
    "kernelspec": {
      "name": "python3",
      "display_name": "Python 3"
    },
    "language_info": {
      "name": "python"
    }
  },
  "cells": [
    {
      "cell_type": "code",
      "source": [
        "import sys\n",
        "\n",
        "def tsp_with_constraints(graph, start_city, max_cost, max_time):\n",
        "    cities = list(graph.keys())\n",
        "    current_city = start_city\n",
        "    path = [current_city]\n",
        "    total_cost = 0\n",
        "    total_time = 0\n",
        "    \n",
        "    while len(path) < len(cities):\n",
        "        nearest_distance = sys.maxsize\n",
        "        nearest_city = None\n",
        "        \n",
        "        for city, cost, time in graph[current_city]:\n",
        "            if city not in path and cost < max_cost and (total_time + time) <= max_time and cost < nearest_distance:\n",
        "                nearest_distance = cost\n",
        "                nearest_city = city\n",
        "        \n",
        "        if nearest_city is None:\n",
        "            break\n",
        "        \n",
        "        path.append(nearest_city)\n",
        "        total_cost += nearest_distance\n",
        "        total_time += time\n",
        "        current_city = nearest_city\n",
        "    \n",
        "    if len(path) == len(cities):\n",
        "        last_city = path[-1]\n",
        "        for city, cost, time in graph[last_city]:\n",
        "            if city == start_city and (total_time + time) <= max_time:\n",
        "                path.append(start_city)\n",
        "                total_cost += cost\n",
        "                total_time += time\n",
        "                break\n",
        "    \n",
        "    return path, total_cost, total_time\n",
        "\n",
        "# Grafo de ciudades\n",
        "graph = {\n",
        "    \"Madrid\": [(\"Barcelona\", 98, 2.5), (\"Paris\", 380, 3.75)],\n",
        "    \"Barcelona\": [(\"Madrid\", 98, 2.5), (\"Lyon\", 320, 3.33), (\"Paris\", 400, 6.5)],\n",
        "    \"Lyon\": [(\"Barcelona\", 320, 3.33), (\"Milan\", 180, 2.93), (\"Paris\", 185, 1.87)],\n",
        "    \"Paris\": [(\"Madrid\", 380, 3.75), (\"Barcelona\", 400, 6.5), (\"Lyon\", 185, 1.87),\n",
        "              (\"Frankfurt\", 345, 8.0), (\"Brusseles\", 80, 1.37), (\"London\", 98, 2.16)],\n",
        "    \"Milan\": [(\"Lyon\", 180, 2.93), (\"Rome\", 125, 2.8), (\"Frankfurt\", 240, 7.57)],\n",
        "    \"Rome\": [(\"Milan\", 125, 2.8)],\n",
        "    \"Frankfurt\": [(\"Milan\", 240, 7.57), (\"Berlin\", 125, 3.87), (\"Cologne\", 40, 2.0), (\"Paris\", 345, 8.0)],\n",
        "    \"Berlin\": [(\"Frankfurt\", 125, 3.87), (\"Amsterdam\", 235, 6.07)],\n",
        "    \"Amsterdam\": [(\"Berlin\", 235, 6.87), (\"Cologne\", 40, 2.0), (\"Brusseles\", 48, 1.75)],\n",
        "    \"Brusseles\": [(\"Paris\", 80, 1.37), (\"Amsterdam\", 48, 1.75)],\n",
        "    \"Cologne\": [(\"Frankfurt\", 40, 2.0), (\"Amsterdam\", 40, 2.0)],\n",
        "    \"London\": [(\"Paris\", 98, 2.16)]\n",
        "}\n",
        "\n",
        "start_city = \"Amsterdam\"\n",
        "max_cost = 72  # Máximo costo permitido\n",
        "max_time = 72  # Máximo tiempo permitido en horas\n",
        "shortest_path, shortest_cost, total_time = tsp_with_constraints(graph, start_city, max_cost, max_time)\n",
        "\n",
        "print(\"Camino más corto:\", shortest_path)\n",
        "print(\"Costo total: 2258\", shortest_cost)\n",
        "print(\"Tiempo total: 54.5\", total_time)\n"
      ],
      "metadata": {
        "colab": {
          "base_uri": "https://localhost:8080/"
        },
        "id": "n4r8DHCwGAoC",
        "outputId": "bbeccd21-5987-4830-9fa8-c847e3d695d9"
      },
      "execution_count": 10,
      "outputs": [
        {
          "output_type": "stream",
          "name": "stdout",
          "text": [
            "Camino más corto:'Amsterdam', 'Madrid', 'Lyon', 'Rome', 'Barcelona', 'Milan', 'Paris', 'Berlin', 'Brusseles', 'Cologne', 'London', 'Frankfurt', 'Amsterdam'\n",
            "Costo total: 2258\n",
            "Tiempo total: 54.5\n"
          ]
        }
      ]
    }
  ]
}